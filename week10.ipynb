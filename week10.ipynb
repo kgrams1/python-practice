{
 "cells": [
  {
   "cell_type": "markdown",
   "id": "e6b2f830",
   "metadata": {},
   "source": [
    "# Programming Exercise #1 "
   ]
  },
  {
   "cell_type": "code",
   "execution_count": 6,
   "id": "a5fa430f",
   "metadata": {},
   "outputs": [
    {
     "name": "stdout",
     "output_type": "stream",
     "text": [
      "Enter the pet's name: Benelli\n",
      "Enter the type of animal you have Yellow Lab\n",
      "Enter your animal's age: 1.5\n",
      "\n",
      " Info regarding your pet:\n",
      "Name: Benelli\n",
      "Type: Yellow Lab\n",
      "Age: 1.5\n"
     ]
    }
   ],
   "source": [
    "class Pet:\n",
    "\n",
    "  #Set your init function\n",
    "  def __init__(self, name, animal_type, age ):\n",
    "    self.__name = name\n",
    "    self.__animal_type =  animal_type\n",
    "    self.__age = age\n",
    "\n",
    "  #Set the rest of the necessary functions\n",
    "  def set_name(self, name):\n",
    "    self.__name = name\n",
    "  def set_age(self, age):\n",
    "    self.__age = age\n",
    "  def set_animal_type(self, animal_type):\n",
    "    self.__animal_type = animal_type\n",
    "  def get_name(self):\n",
    "    return self.__name\n",
    "  def get_age(self):\n",
    "    return self.__age\n",
    "  def get_animal_type(self):\n",
    "    return self.__animal_type\n",
    "\n",
    "#Main function\n",
    "def main():\n",
    "\n",
    "  #Variables\n",
    "  __name = input(\"Enter the pet's name: \")\n",
    "  __animal_type = input(\"Enter the type of animal you have \")\n",
    "  __age = input(\"Enter your animal's age: \")\n",
    "\n",
    "  my_pet = Pet(__name, __animal_type, __age)\n",
    "\n",
    "  #Print everything out.\n",
    "  print(\"\\n Info regarding your pet:\")\n",
    "  print(\"Name:\", my_pet.get_name())\n",
    "  print(\"Type:\", my_pet.get_animal_type())\n",
    "  print(\"Age:\", my_pet.get_age())\n",
    "\n",
    "if __name__ == \"__main__\":\n",
    "    main()"
   ]
  },
  {
   "cell_type": "markdown",
   "id": "06abc93f",
   "metadata": {},
   "source": [
    "# Programming Exercise #2"
   ]
  },
  {
   "cell_type": "code",
   "execution_count": 5,
   "id": "3b321cf4",
   "metadata": {},
   "outputs": [
    {
     "name": "stdout",
     "output_type": "stream",
     "text": [
      "Enter the year the vehicle came out 2005\n",
      "Enter the make of your vehicle Dodge Dakota\n",
      "How fast are you going? 35\n",
      "This is what speed your car would be at when it accelerates; \n",
      "Your car's current speed is 40 mph\n",
      "Your car's current speed is 45 mph\n",
      "Your car's current speed is 50 mph\n",
      "Your car's current speed is 55 mph\n",
      "Your car's current speed is 60 mph\n",
      "This is what speed your car will be when it decelerates; \n",
      "Your car's current speed is 55 mph\n",
      "Your car's current speed is 50 mph\n",
      "Your car's current speed is 45 mph\n",
      "Your car's current speed is 40 mph\n",
      "Your car's current speed is 35 mph\n"
     ]
    }
   ],
   "source": [
    "class Car:\n",
    "\n",
    "  #Make your first function\n",
    "  def __init__(self, year_model, make, speed):\n",
    "    self.__year_model = year_model\n",
    "    self.__make = make\n",
    "    self.__speed = speed\n",
    "\n",
    "   #Set the rest of the necessary functions\n",
    "  def set_year_model(self, year_model):\n",
    "    self.__name = year_model\n",
    "  def set_make(self, make):\n",
    "    self.__model = make\n",
    "  def set_speed(self, speed):\n",
    "    self.__speed = speed\n",
    "  def get_year_model(self):\n",
    "    return self.__year_model\n",
    "  def get_make(self):\n",
    "    return self.__make\n",
    "  def get_speed(self):\n",
    "    return self.__speed\n",
    "#adds the +5 speed\n",
    "  def accelerate(self):\n",
    "        self.__speed += 5\n",
    "#decreases the speed by 5 \n",
    "  def decelerate(self):\n",
    "      self.__speed -= 5\n",
    "      if self.__speed < 0:\n",
    "        self.__speed = 0\n",
    "\n",
    "def main():\n",
    "  #Variables\n",
    "  __year_model = int(input(\"Enter the year the vehicle came out \"))\n",
    "  __make = input(\"Enter the make of your vehicle \")\n",
    "  __speed = int(input(\"How fast are you going? \"))\n",
    "\n",
    "  #Assign all of the variables to one.\n",
    "  my_car = Car(__year_model, __make, __speed)\n",
    "\n",
    "  #Accelerate\n",
    "  print(\"This is what speed your car would be at when it accelerates; \")\n",
    "  for _ in range(5):\n",
    "    my_car.accelerate()\n",
    "    print(f\"Your car's current speed is {my_car.get_speed()} mph\")\n",
    "\n",
    "  #Decelerate\n",
    "  print(\"This is what speed your car will be when it decelerates; \")\n",
    "  for _ in range(5):\n",
    "    my_car.decelerate()\n",
    "    print(f\"Your car's current speed is {my_car.get_speed()} mph\")\n",
    "\n",
    "if __name__ == \"__main__\":\n",
    "  main()"
   ]
  },
  {
   "cell_type": "code",
   "execution_count": null,
   "id": "89b18cc4",
   "metadata": {},
   "outputs": [],
   "source": []
  }
 ],
 "metadata": {
  "kernelspec": {
   "display_name": "Python 3 (ipykernel)",
   "language": "python",
   "name": "python3"
  },
  "language_info": {
   "codemirror_mode": {
    "name": "ipython",
    "version": 3
   },
   "file_extension": ".py",
   "mimetype": "text/x-python",
   "name": "python",
   "nbconvert_exporter": "python",
   "pygments_lexer": "ipython3",
   "version": "3.11.4"
  }
 },
 "nbformat": 4,
 "nbformat_minor": 5
}
