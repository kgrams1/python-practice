{
 "cells": [
  {
   "cell_type": "markdown",
   "id": "bb78641e",
   "metadata": {},
   "source": [
    "# Programming exercise #1"
   ]
  },
  {
   "cell_type": "markdown",
   "id": "e6e50bc1",
   "metadata": {},
   "source": [
    "## Write a program that asks the user to enter a distance in kilometers, then uses a function to convert that distance to miles. The conversion formula is as follows: miles = kilometers x 0.6214"
   ]
  },
  {
   "cell_type": "code",
   "execution_count": 8,
   "id": "e2306693",
   "metadata": {},
   "outputs": [
    {
     "name": "stdout",
     "output_type": "stream",
     "text": [
      "Enter a distance in kilometers: 76\n",
      "76.0 kilometers equals 47.2264 miles.\n"
     ]
    }
   ],
   "source": [
    "# this program converts kilometers to miles\n",
    "CONVERSION_FACTOR = 0.6214\n",
    "\n",
    "# the main function gets a distance in kilometers and call the show_miles function to convert it\n",
    "def main() :\n",
    "    #get the distance in kilometers.\n",
    "    kilometers = float (input('Enter a distance in kilometers: '))\n",
    "    \n",
    "    #Display the distance converted to miles\n",
    "    show_miles (kilometers)\n",
    "\n",
    "    #the show_miles function converts the parameter km from kilometers to miles and displays the results\n",
    "def show_miles(km) :\n",
    "    #Calculate miles\n",
    "    miles = km * CONVERSION_FACTOR\n",
    "        \n",
    "    #Display the miles\n",
    "    print(km, 'kilometers equals', miles, 'miles.')\n",
    "     \n",
    " #call the main function        \n",
    "main()"
   ]
  },
  {
   "cell_type": "markdown",
   "id": "e27f4c9f",
   "metadata": {},
   "source": [
    "# Programming exercise #16 "
   ]
  },
  {
   "cell_type": "markdown",
   "id": "9a1c6a08",
   "metadata": {},
   "source": [
    "## Write a Boolean function named which takes an integer as an argument and returns true if the argument is a prime number, or false otherwise. Use the function in a program that prompts the user to enter a number then displays a message indicating whether the number is prime."
   ]
  },
  {
   "cell_type": "code",
   "execution_count": 1,
   "id": "df09f72c",
   "metadata": {},
   "outputs": [],
   "source": [
    "#first you ask the user to enter a number. the while statment decides if the algorithm is true which decides if it \n",
    "#is a prime number or not. so the if else statment provides the answer so if the statment is true it prints is a prime \n",
    "#if it is false it prints is not a prime"
   ]
  },
  {
   "cell_type": "code",
   "execution_count": 2,
   "id": "bd915a0f",
   "metadata": {},
   "outputs": [
    {
     "name": "stdout",
     "output_type": "stream",
     "text": [
      "Enter a number: 5\n",
      "5 is a prime\n"
     ]
    }
   ],
   "source": [
    "a=int(input(\"Enter a number: \"))\n",
    "i=2\n",
    "p=[]\n",
    "while i<=a-1:\n",
    "    p.append(a%i)\n",
    "    i=i+1\n",
    "if 0 not in list(p):\n",
    "    print(a, \"is a prime\")\n",
    "else:\n",
    "    print(a, \"is not a prime\")"
   ]
  },
  {
   "cell_type": "markdown",
   "id": "068b1db5",
   "metadata": {},
   "source": [
    "# Programming exercise #17"
   ]
  },
  {
   "cell_type": "markdown",
   "id": "842a4f2d",
   "metadata": {},
   "source": [
    "## Write another program that displays all of the prime numbers from 1 to 100. The program should have a loop that calls the function."
   ]
  },
  {
   "cell_type": "code",
   "execution_count": 3,
   "id": "0b3dc978",
   "metadata": {},
   "outputs": [
    {
     "name": "stdout",
     "output_type": "stream",
     "text": [
      "This is a program to print the prime numbers from 1 to 100\n",
      "2 is prime\n",
      "3 is prime\n",
      "5 is prime\n",
      "7 is prime\n",
      "11 is prime\n",
      "13 is prime\n",
      "17 is prime\n",
      "19 is prime\n",
      "23 is prime\n",
      "29 is prime\n",
      "31 is prime\n",
      "37 is prime\n",
      "41 is prime\n",
      "43 is prime\n",
      "47 is prime\n",
      "53 is prime\n",
      "59 is prime\n",
      "61 is prime\n",
      "67 is prime\n",
      "71 is prime\n",
      "73 is prime\n",
      "79 is prime\n",
      "83 is prime\n",
      "89 is prime\n",
      "97 is prime\n"
     ]
    }
   ],
   "source": [
    "def main():\n",
    "\n",
    "    #decribing the program\n",
    "    print (\"This is a program to print the prime numbers from 1 to 100\")\n",
    "      \n",
    "    #go through all the numbers from 1 - 100\n",
    "    for num in range (2, 101):\n",
    "      \n",
    "        #call the is_prime function\n",
    "        #if the answer from the function is true/prime, print it\n",
    "        if (is_prime(num)):\n",
    "            print (num , \"is prime\")\n",
    "  \n",
    "def is_prime(loopnum):\n",
    "  \n",
    "#the program loops until it gets to 100 and determines which numbers are prime\n",
    "    for x in range (2, loopnum):\n",
    "      \n",
    "    #check if number is divisible by any of the value.\n",
    "    #if yes, the number is not prime and return false\n",
    "    #if no, then continue the loop\n",
    "        if (loopnum % x) == 0:\n",
    "            return False\n",
    "    \n",
    "    #if it is not divisible by any number,then the number is prime so return true at the end\n",
    "        \n",
    "    return True\n",
    "\n",
    "main()"
   ]
  },
  {
   "cell_type": "markdown",
   "id": "6c794e40",
   "metadata": {},
   "source": [
    "# Programming exercise #9"
   ]
  },
  {
   "cell_type": "markdown",
   "id": "24debbef",
   "metadata": {},
   "source": [
    "## One foot equals 12 inches. Write a function named that accepts a number of feet as an argument and returns the number of inches in that many feet. Use the function in a program that prompts the user to enter a number of feet then displays the number of inches in that many feet."
   ]
  },
  {
   "cell_type": "code",
   "execution_count": 7,
   "id": "e7fd4410",
   "metadata": {},
   "outputs": [
    {
     "name": "stdout",
     "output_type": "stream",
     "text": [
      "Enter a number of feet: 17\n",
      "17 equals 204 inches\n"
     ]
    }
   ],
   "source": [
    "#used the video provided with the problem\n",
    "#Constant for the number of inches per foot\n",
    "INCHES_PER_FOOT = 12\n",
    "\n",
    "#main function\n",
    "def main() :\n",
    "    #Get a number of feet from the user\n",
    "    feet = int(input('Enter a number of feet: '))\n",
    "    \n",
    "    #Convert that to inches\n",
    "    print(feet, 'equals', feet_to_inches(feet), 'inches')\n",
    "    \n",
    "#The feet_to_inches function converts feet to inches.\n",
    "def feet_to_inches(feet) :\n",
    "    return feet * INCHES_PER_FOOT\n",
    "#call the main function\n",
    "main()"
   ]
  },
  {
   "cell_type": "code",
   "execution_count": null,
   "id": "717f3734",
   "metadata": {},
   "outputs": [],
   "source": []
  }
 ],
 "metadata": {
  "kernelspec": {
   "display_name": "Python 3 (ipykernel)",
   "language": "python",
   "name": "python3"
  },
  "language_info": {
   "codemirror_mode": {
    "name": "ipython",
    "version": 3
   },
   "file_extension": ".py",
   "mimetype": "text/x-python",
   "name": "python",
   "nbconvert_exporter": "python",
   "pygments_lexer": "ipython3",
   "version": "3.11.4"
  }
 },
 "nbformat": 4,
 "nbformat_minor": 5
}
