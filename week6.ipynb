{
 "cells": [
  {
   "cell_type": "markdown",
   "id": "1e125add",
   "metadata": {},
   "source": [
    "# Algorithm Workbench 1 and 2"
   ]
  },
  {
   "cell_type": "markdown",
   "id": "87cf5dab",
   "metadata": {},
   "source": [
    "### asked to create a program that opens an output file with a specific name that writes your name to it then asked to use that file to read your name and age and displays it."
   ]
  },
  {
   "cell_type": "code",
   "execution_count": 1,
   "id": "3458ab06",
   "metadata": {},
   "outputs": [],
   "source": [
    " #Open file for writing\n",
    "w = open('my_name.txt','w')\n",
    " #Write 2 names\n",
    "w.write('Koy\\n')\n",
    "w.write('Grams\\n')\n",
    " #Write the age\n",
    "w.write('19\\n')\n",
    "w.flush()\n",
    "w.close()"
   ]
  },
  {
   "cell_type": "code",
   "execution_count": 2,
   "id": "c3720cd8",
   "metadata": {},
   "outputs": [
    {
     "name": "stdout",
     "output_type": "stream",
     "text": [
      "Koy\n",
      "Grams\n",
      "19 9.5\n"
     ]
    }
   ],
   "source": [
    "#Open file for reading\n",
    "f = open('my_name.txt','r')\n",
    "#Read 2 names and write to console\n",
    "print(f.readline().strip())\n",
    "print(f.readline().strip())\n",
    "#Read the age\n",
    "age = int(f.readline().strip())\n",
    "#Write the age and half the age\n",
    "print(str(age)+' '+str(age/2))"
   ]
  },
  {
   "cell_type": "markdown",
   "id": "568f15fa",
   "metadata": {},
   "source": [
    "# Programming exercise #1"
   ]
  },
  {
   "cell_type": "markdown",
   "id": "d0b912f5",
   "metadata": {},
   "source": [
    "### Asked to write a program to display all the numbers in a file"
   ]
  },
  {
   "cell_type": "code",
   "execution_count": 4,
   "id": "9c05be30",
   "metadata": {},
   "outputs": [
    {
     "name": "stdout",
     "output_type": "stream",
     "text": [
      "12\n",
      "4\n",
      "45\n",
      "56\n",
      "654\n",
      "6\n",
      "456\n",
      "56\n",
      "5\n",
      "34\n",
      "34\n",
      "534\n",
      "543\n",
      "6\n",
      "567\n",
      "4567\n",
      "45\n",
      "6345\n",
      "345\n",
      "34\n",
      "534\n",
      "534\n",
      "53\n",
      "45\n",
      "3456\n",
      "4766\n",
      "57\n",
      "567\n",
      "546\n",
      "345\n",
      "3454234\n",
      "54\n",
      "3454\n",
      "3645\n",
      "756\n",
      "8\n",
      "746\n",
      "4565\n"
     ]
    }
   ],
   "source": [
    "# open the file\n",
    "myfile = open('numbers.txt', 'r')\n",
    "\n",
    "# read and display the file's contenst\n",
    "for line in myfile:\n",
    "    number = int(line)\n",
    "    print(number)\n",
    "\n",
    "# close the file\n",
    "myfile.close()"
   ]
  },
  {
   "cell_type": "markdown",
   "id": "18e346d0",
   "metadata": {},
   "source": [
    "# Programming Exercise #6"
   ]
  },
  {
   "cell_type": "markdown",
   "id": "7a95209c",
   "metadata": {},
   "source": [
    "### Asked to write a program that calculates the average of all the numbers in a specific file"
   ]
  },
  {
   "cell_type": "code",
   "execution_count": 8,
   "id": "0d8dcd1b",
   "metadata": {},
   "outputs": [
    {
     "name": "stdout",
     "output_type": "stream",
     "text": [
      "The numbers are: 1, 2, 4, 45, 56\n",
      "Their average is: 22.2\n"
     ]
    }
   ],
   "source": [
    "\n",
    "def main():\n",
    "\n",
    "    file_numbers = open('numbers.txt', 'r')\n",
    "#pull the numbers from the text file to calculate the averae of \n",
    "    num1 = int(file_numbers.readline(1))\n",
    "\n",
    "    num2 = int(file_numbers.readline(2))\n",
    "\n",
    "    num3 = int(file_numbers.readline(3))\n",
    "\n",
    "    num4 = int(file_numbers.readline(4))\n",
    "\n",
    "    num5 = int(file_numbers.readline(5))\n",
    "\n",
    "    file_numbers.close()\n",
    "\n",
    "    total = (num3 + num2 + num3 + num4 + num5)\n",
    "\n",
    "    average = total / 5\n",
    "\n",
    "    print(f'The numbers are: {num1}, {num2}, {num3}, {num4}, {num5}')\n",
    "\n",
    "    print (f'Their average is: {average}' )\n",
    "\n",
    "main()"
   ]
  },
  {
   "cell_type": "markdown",
   "id": "24b98b57",
   "metadata": {},
   "source": [
    "# Programming exercise #11"
   ]
  },
  {
   "cell_type": "markdown",
   "id": "02ce1f61",
   "metadata": {},
   "source": [
    "### Write a program that asks the user for their name, then asks the user to enter a sentence that describes themself"
   ]
  },
  {
   "cell_type": "code",
   "execution_count": 9,
   "id": "0a27fa11",
   "metadata": {},
   "outputs": [
    {
     "name": "stdout",
     "output_type": "stream",
     "text": [
      "Enter your name: Koy Grams\n",
      "Describe yourself: I am 19 and in college writing this for a class \n",
      "Enter a file name to save: exercise11\n",
      "File \"exercise11\" has been created successfully!\n"
     ]
    }
   ],
   "source": [
    "# Get user input\n",
    "name = input(\"Enter your name: \")\n",
    "description = input(\"Describe yourself: \")\n",
    "file_name = input(\"Enter a file name to save: \")\n",
    "\n",
    "# Create an HTML file with user input\n",
    "with open(file_name, 'w') as file:\n",
    "    file.write('<html>\\n')\n",
    "    file.write('<head>\\n')\n",
    "    file.write('</head>\\n')\n",
    "    file.write('<body>\\n')\n",
    "    file.write('   <center>\\n')\n",
    "    file.write(f'      <h1>{name}</h1>\\n')\n",
    "    file.write('   </center>\\n')\n",
    "    file.write('   <hr />\\n')\n",
    "    file.write(f'   {description}\\n')\n",
    "    file.write('   <hr />\\n')\n",
    "    file.write('</body>\\n')\n",
    "    file.write('</html>\\n')\n",
    "\n",
    "print(f'File \"{file_name}\" has been created successfully!')"
   ]
  },
  {
   "cell_type": "markdown",
   "id": "9b36d964",
   "metadata": {},
   "source": [
    "# Programming Exercise #9"
   ]
  },
  {
   "cell_type": "code",
   "execution_count": 10,
   "id": "e6aac3ae",
   "metadata": {},
   "outputs": [
    {
     "name": "stdout",
     "output_type": "stream",
     "text": [
      "91913.5\n"
     ]
    }
   ],
   "source": [
    "try:\n",
    "    # opening the file\n",
    "    read_file = open('numbers.txt', 'r')\n",
    "\n",
    "    # Store the numbers in the variable file_numbers.\n",
    "    file_numbers = read_file.read()\n",
    "\n",
    "    # close the file\n",
    "    read_file.close()\n",
    "\n",
    "    # Split the numbers in list_values.\n",
    "    list_values = file_numbers.split()\n",
    "\n",
    "    # how many numbers are there\n",
    "    list_length = len(list_values)\n",
    "\n",
    "    try:\n",
    "        # loop through the values and convert them to floats\n",
    "        for i in range(list_length):\n",
    "            list_values[i] = float(list_values[i])\n",
    "\n",
    "        # Add up all the numbers, put into list_sum\n",
    "        list_sum = sum(list_values)\n",
    "\n",
    "        # calculate the average\n",
    "        average_value = list_sum / list_length\n",
    "\n",
    "        # print the average\n",
    "        print(average_value)\n",
    "\n",
    "    except ValueError:\n",
    "        print(\"File must have only numbers. Try again.\")\n",
    "\n",
    "except IOError:\n",
    "    print(\"Trouble opening file. Try again.\")"
   ]
  },
  {
   "cell_type": "code",
   "execution_count": null,
   "id": "3ca5e8d9",
   "metadata": {},
   "outputs": [],
   "source": []
  }
 ],
 "metadata": {
  "kernelspec": {
   "display_name": "Python 3 (ipykernel)",
   "language": "python",
   "name": "python3"
  },
  "language_info": {
   "codemirror_mode": {
    "name": "ipython",
    "version": 3
   },
   "file_extension": ".py",
   "mimetype": "text/x-python",
   "name": "python",
   "nbconvert_exporter": "python",
   "pygments_lexer": "ipython3",
   "version": "3.11.4"
  }
 },
 "nbformat": 4,
 "nbformat_minor": 5
}
