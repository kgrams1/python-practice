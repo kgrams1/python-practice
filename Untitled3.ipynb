{
 "cells": [
  {
   "cell_type": "markdown",
   "id": "30e1c772",
   "metadata": {},
   "source": [
    "# Chapter 2 Exercises"
   ]
  },
  {
   "cell_type": "markdown",
   "id": "c22cfe3d",
   "metadata": {},
   "source": [
    "## Algorithm Workbench- Number 12\n",
    "Asked to run a print function call and predict what the output will be"
   ]
  },
  {
   "cell_type": "code",
   "execution_count": null,
   "id": "4028d8a6",
   "metadata": {},
   "outputs": [],
   "source": [
    "print('George', 'John', 'Paul', 'Ringo', sep='@') "
   ]
  },
  {
   "cell_type": "markdown",
   "id": "9e4b2784",
   "metadata": {},
   "source": [
    "I believe the output will be similar to the following string \n",
    "\"George@John@Paul@Ringo\""
   ]
  },
  {
   "cell_type": "code",
   "execution_count": null,
   "id": "d1cff6c4",
   "metadata": {},
   "outputs": [],
   "source": []
  }
 ],
 "metadata": {
  "kernelspec": {
   "display_name": "Python 3 (ipykernel)",
   "language": "python",
   "name": "python3"
  },
  "language_info": {
   "codemirror_mode": {
    "name": "ipython",
    "version": 3
   },
   "file_extension": ".py",
   "mimetype": "text/x-python",
   "name": "python",
   "nbconvert_exporter": "python",
   "pygments_lexer": "ipython3",
   "version": "3.11.4"
  }
 },
 "nbformat": 4,
 "nbformat_minor": 5
}
