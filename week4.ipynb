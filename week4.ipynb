{
 "cells": [
  {
   "cell_type": "markdown",
   "id": "0831eedd",
   "metadata": {},
   "source": [
    "# Algorithm workbench #4 "
   ]
  },
  {
   "cell_type": "markdown",
   "id": "d0736955",
   "metadata": {},
   "source": [
    "## asked to write a loop that asks the user to enter a number. The loop should iterate 10 times and keep a running total of the numbers entered."
   ]
  },
  {
   "cell_type": "markdown",
   "id": "594d680c",
   "metadata": {},
   "source": [
    "## by entering the for with and making the number of times its asks for input 10 times after the users enters 10 numbers it calculates the collective of all of them added together. "
   ]
  },
  {
   "cell_type": "code",
   "execution_count": 5,
   "id": "8655cd75",
   "metadata": {},
   "outputs": [
    {
     "name": "stdout",
     "output_type": "stream",
     "text": [
      "enter a number: 56\n",
      "enter a number: 14\n",
      "enter a number: 97\n",
      "enter a number: 6\n",
      "enter a number: 2\n",
      "enter a number: 9\n",
      "enter a number: 585\n",
      "enter a number: 23456\n",
      "enter a number: 5\n",
      "enter a number: 4\n",
      "total is 24234.0\n"
     ]
    }
   ],
   "source": [
    "num = 0\n",
    "for i in range(10):\n",
    "    num += float(input(\"enter a number: \"))\n",
    "\n",
    "print(\"total is\" , num)"
   ]
  },
  {
   "cell_type": "markdown",
   "id": "234413c6",
   "metadata": {},
   "source": [
    "# Algorithm workbench #3"
   ]
  },
  {
   "cell_type": "markdown",
   "id": "72716290",
   "metadata": {},
   "source": [
    "## asked to write a for loop that displays the numbers 10,0,30 - 1000¶\n",
    "for a for loop you put for the x in range which specifies that you want it to loop from a specific chosen number being 0 to another number being 1000, then the number after the 1000 specifies the number of increase between each time the code loops so 10. This causes the code to loop by intervals of 10 all the way to 1000 "
   ]
  },
  {
   "cell_type": "code",
   "execution_count": 2,
   "id": "aa0fd4dd",
   "metadata": {},
   "outputs": [
    {
     "name": "stdout",
     "output_type": "stream",
     "text": [
      "0\n",
      "10\n",
      "20\n",
      "30\n",
      "40\n",
      "50\n",
      "60\n",
      "70\n",
      "80\n",
      "90\n",
      "100\n",
      "110\n",
      "120\n",
      "130\n",
      "140\n",
      "150\n",
      "160\n",
      "170\n",
      "180\n",
      "190\n",
      "200\n",
      "210\n",
      "220\n",
      "230\n",
      "240\n",
      "250\n",
      "260\n",
      "270\n",
      "280\n",
      "290\n",
      "300\n",
      "310\n",
      "320\n",
      "330\n",
      "340\n",
      "350\n",
      "360\n",
      "370\n",
      "380\n",
      "390\n",
      "400\n",
      "410\n",
      "420\n",
      "430\n",
      "440\n",
      "450\n",
      "460\n",
      "470\n",
      "480\n",
      "490\n",
      "500\n",
      "510\n",
      "520\n",
      "530\n",
      "540\n",
      "550\n",
      "560\n",
      "570\n",
      "580\n",
      "590\n",
      "600\n",
      "610\n",
      "620\n",
      "630\n",
      "640\n",
      "650\n",
      "660\n",
      "670\n",
      "680\n",
      "690\n",
      "700\n",
      "710\n",
      "720\n",
      "730\n",
      "740\n",
      "750\n",
      "760\n",
      "770\n",
      "780\n",
      "790\n",
      "800\n",
      "810\n",
      "820\n",
      "830\n",
      "840\n",
      "850\n",
      "860\n",
      "870\n",
      "880\n",
      "890\n",
      "900\n",
      "910\n",
      "920\n",
      "930\n",
      "940\n",
      "950\n",
      "960\n",
      "970\n",
      "980\n",
      "990\n"
     ]
    }
   ],
   "source": [
    "for x in range(0, 1000, 10):\n",
    "    print(x)"
   ]
  },
  {
   "cell_type": "markdown",
   "id": "e6c4524c",
   "metadata": {},
   "source": [
    "# Programming Exercise #1"
   ]
  },
  {
   "cell_type": "markdown",
   "id": "6b3a1b5d",
   "metadata": {},
   "source": [
    "### Asked A bug collector collects bugs every day for five days. Write a program that keeps a running total of the number of bugs collected during the five days. The loop should ask for the number of bugs collected for each day, and when the loop is finished, the program should display the total number of bugs collected."
   ]
  },
  {
   "cell_type": "code",
   "execution_count": 4,
   "id": "7fff547a",
   "metadata": {},
   "outputs": [],
   "source": [
    "#need to create a variable which is the accumilator to keep a running total of the number so you must initialize it at the\n",
    "#value zero or it will not be a accurate total. after that for the for loop you input the amount of time you want it to loop \n",
    "#which would be 6 times and on the 6th time it will display the amount of bugs found in the 5 days"
   ]
  },
  {
   "cell_type": "code",
   "execution_count": 5,
   "id": "8a166a0e",
   "metadata": {},
   "outputs": [
    {
     "name": "stdout",
     "output_type": "stream",
     "text": [
      "Enter the bugs collected on day 1\n",
      "4\n",
      "Enter the bugs collected on day 2\n",
      "0\n",
      "Enter the bugs collected on day 3\n",
      "2\n",
      "Enter the bugs collected on day 4\n",
      "7\n",
      "Enter the bugs collected on day 5\n",
      "5\n",
      " You collected a total of  18 bugs.\n"
     ]
    }
   ],
   "source": [
    "### initialize the accumulator \n",
    "total = 0\n",
    "\n",
    "#get the bugs collected for each day \n",
    "for day in range(1, 6) :\n",
    "    #this prompts the user\n",
    "    print ('Enter the bugs collected on day', day)\n",
    "    #input the bnumber of bugs \n",
    "    bugs = int(input ())\n",
    "    total = total + bugs\n",
    "# Display the total bugs.\n",
    "print (' You collected a total of ', total, 'bugs.')"
   ]
  },
  {
   "cell_type": "markdown",
   "id": "fe127691",
   "metadata": {},
   "source": [
    "# Programming exercise #4"
   ]
  },
  {
   "cell_type": "markdown",
   "id": "58b6488c",
   "metadata": {},
   "source": [
    "## Write a program that asks the user for the speed of a vehicle (in miles per hour) and the number of hours it has traveled. It should then use a loop to display the distance the vehicle has traveled for each hour of that time period. Here is an example of the desired output:"
   ]
  },
  {
   "cell_type": "code",
   "execution_count": 6,
   "id": "b920fce7",
   "metadata": {},
   "outputs": [],
   "source": [
    "#By making g=y it shows that the inoput for mph and hours go hand in hand and calculate the distance. the only number not \n",
    "#able to be used is 0 which is why the input must be >0"
   ]
  },
  {
   "cell_type": "code",
   "execution_count": 7,
   "id": "72d998e2",
   "metadata": {},
   "outputs": [
    {
     "name": "stdout",
     "output_type": "stream",
     "text": [
      "Enter mph: 56\n",
      "Enter hours: 3\n",
      "1 : 168\n",
      "2 : 336\n",
      "3 : 672\n",
      "End\n"
     ]
    }
   ],
   "source": [
    "g = 'y'\n",
    "while g == 'Y' or g == 'y':\n",
    "    speed = int(input('Enter mph: '))\n",
    "    time = int(input('Enter hours: '))\n",
    "\n",
    "    if time <= 0 or speed <= 0:\n",
    "        print('Invalid Hours and mph must be greater than 0')\n",
    "    else:\n",
    "        for t in range(time):\n",
    "            distance = speed * time\n",
    "\n",
    "            print(t + 1,':', distance)\n",
    "            time = time * 2\n",
    "\n",
    "\n",
    "        g = 'n'\n",
    "print('End')"
   ]
  },
  {
   "cell_type": "markdown",
   "id": "dfe64ea3",
   "metadata": {},
   "source": [
    "# Programming exercise #13"
   ]
  },
  {
   "cell_type": "markdown",
   "id": "7143392f",
   "metadata": {},
   "source": [
    "## Write a programming loop that uses nested loops to create a pattern"
   ]
  },
  {
   "cell_type": "code",
   "execution_count": 12,
   "id": "0402e7e7",
   "metadata": {},
   "outputs": [],
   "source": [
    "#If you look at the pattern as columns and rows the pattern has 8 rows. so in the first row there is one column and then one \n",
    "#column is added per row which is what r+1 signifies adding 1 column each time which eventually creates the patter after the \n",
    "#8 rows have all been looped/used the follow through in textbook to solve"
   ]
  },
  {
   "cell_type": "code",
   "execution_count": 9,
   "id": "a0adfdb2",
   "metadata": {},
   "outputs": [
    {
     "name": "stdout",
     "output_type": "stream",
     "text": [
      "*\n",
      "**\n",
      "***\n",
      "****\n",
      "*****\n",
      "******\n",
      "*******\n",
      "********\n"
     ]
    }
   ],
   "source": [
    "BASE_SIZE = 8\n",
    "for r in range(BASE_SIZE):\n",
    "    for c in range(r + 1):\n",
    "        print('*', end='')\n",
    "    print()"
   ]
  },
  {
   "cell_type": "markdown",
   "id": "8c42a05c",
   "metadata": {},
   "source": [
    "# Programming exercise # 14"
   ]
  },
  {
   "cell_type": "markdown",
   "id": "f6d3eee2",
   "metadata": {},
   "source": [
    "## Asked to write a nested loop in a specific pattern"
   ]
  },
  {
   "cell_type": "code",
   "execution_count": 13,
   "id": "a05222a5",
   "metadata": {},
   "outputs": [],
   "source": [
    "#by using 2 nested loops you can specify the number of spaces you want added between the # sign each time. so after every \n",
    "#loop and extra space will be added to create the pattern/ used the follow through in textbook to solve"
   ]
  },
  {
   "cell_type": "code",
   "execution_count": 11,
   "id": "f489359f",
   "metadata": {},
   "outputs": [
    {
     "name": "stdout",
     "output_type": "stream",
     "text": [
      "##\n",
      "# #\n",
      "#  #\n",
      "#   #\n",
      "#    #\n",
      "#     #\n",
      "#      #\n"
     ]
    }
   ],
   "source": [
    "num_spaces_wanted = 0\n",
    "while num_spaces_wanted < 7:\n",
    "    print('#', end='')\n",
    "    num_spaces_printed = 0\n",
    "    while num_spaces_printed < num_spaces_wanted:\n",
    "        print(' ', end='')\n",
    "        num_spaces_printed += 1\n",
    "    print('#')\n",
    "    num_spaces_wanted += 1"
   ]
  },
  {
   "cell_type": "code",
   "execution_count": null,
   "id": "36925ae7",
   "metadata": {},
   "outputs": [],
   "source": []
  }
 ],
 "metadata": {
  "kernelspec": {
   "display_name": "Python 3 (ipykernel)",
   "language": "python",
   "name": "python3"
  },
  "language_info": {
   "codemirror_mode": {
    "name": "ipython",
    "version": 3
   },
   "file_extension": ".py",
   "mimetype": "text/x-python",
   "name": "python",
   "nbconvert_exporter": "python",
   "pygments_lexer": "ipython3",
   "version": "3.11.4"
  }
 },
 "nbformat": 4,
 "nbformat_minor": 5
}
