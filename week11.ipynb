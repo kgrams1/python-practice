{
 "cells": [
  {
   "cell_type": "markdown",
   "id": "5a338055",
   "metadata": {},
   "source": [
    "# Programming exercise #3"
   ]
  },
  {
   "cell_type": "code",
   "execution_count": 13,
   "id": "194462d5",
   "metadata": {},
   "outputs": [],
   "source": [
    "# Person class\n",
    "class Person:\n",
    "    #initialize the object\n",
    "    def _init_(self, name, address, phone):\n",
    "        self._name = name\n",
    "        self._address = address\n",
    "        self._phone = phone\n",
    "        #mutator for the  _name attribute\n",
    "        def set_name(self, name):\n",
    "            self._name = name\n",
    "            \n",
    "        #mutatopr for thew _address attribute\n",
    "        def set_name(self, address):\n",
    "            self._address = address\n",
    "            \n",
    "        #mutator for the _phone attribute\n",
    "        def set_name(self, phone):\n",
    "            self._phone = phone\n",
    "            \n",
    "        #accessor for the _name attribute\n",
    "        def get_name(self):\n",
    "            return self._name\n",
    "       \n",
    "        #accesor for the _address attribute \n",
    "        def get_address(self):\n",
    "            return self.__address\n",
    "\n",
    "        #accesor for the _phone attribute\n",
    "        def get_telephone(self):\n",
    "            return self.__phone\n",
    "    \n"
   ]
  },
  {
   "cell_type": "code",
   "execution_count": 12,
   "id": "99a15f5d",
   "metadata": {},
   "outputs": [],
   "source": [
    "class Customer(Person):\n",
    "    #Initialize the object\n",
    "    def __init__(self, name, address, phone, customer_number, mailing_list):\n",
    "        #call the superclass _init_method\n",
    "        Person.__init__(self, name, address, phone)\n",
    "        \n",
    "        #Initialize the specialized attributes\n",
    "        self._customer_number = customer_number\n",
    "        self._mailing_list = mailing_list\n",
    "        \n",
    "    #mutator for the _customer_number attribute\n",
    "    def set_customer_number(self, customer_number):\n",
    "        self.__customer_number = customer_number\n",
    "\n",
    "    def set_mailing_list(self, mailing_list):\n",
    "        self._mailing_list = mailing_list\n",
    "    #accessor for the _customer_number attribute\n",
    "    def get_customer_number(self):\n",
    "        return self._customer_number\n",
    "\n",
    "    def get_mailing_list(self):\n",
    "        return self.__mailing_list\n"
   ]
  },
  {
   "cell_type": "code",
   "execution_count": 2,
   "id": "22efdc0e",
   "metadata": {
    "scrolled": true
   },
   "outputs": [
    {
     "ename": "ModuleNotFoundError",
     "evalue": "No module named 'customer'",
     "output_type": "error",
     "traceback": [
      "\u001b[1;31m---------------------------------------------------------------------------\u001b[0m",
      "\u001b[1;31mModuleNotFoundError\u001b[0m                       Traceback (most recent call last)",
      "Cell \u001b[1;32mIn[2], line 1\u001b[0m\n\u001b[1;32m----> 1\u001b[0m \u001b[38;5;28;01mimport\u001b[39;00m \u001b[38;5;21;01mcustomer\u001b[39;00m\n\u001b[0;32m      3\u001b[0m \u001b[38;5;66;03m#get user info\u001b[39;00m\n\u001b[0;32m      4\u001b[0m name \u001b[38;5;241m=\u001b[39m \u001b[38;5;28minput\u001b[39m(\u001b[38;5;124m'\u001b[39m\u001b[38;5;124mName: \u001b[39m\u001b[38;5;124m'\u001b[39m)\n",
      "\u001b[1;31mModuleNotFoundError\u001b[0m: No module named 'customer'"
     ]
    }
   ],
   "source": [
    "import customer \n",
    "\n",
    "#get user info\n",
    "name = input('Name: ')\n",
    "address = input('Address: ')\n",
    "phone = input('Phone: ')\n",
    "customer_number = input('Customer number: ')\n",
    "mail = input('Include in mailing list? (y/n:) ')\n",
    "\n",
    "#determine tru or false for mail\n",
    "if mail.lower() == 'y':\n",
    "    mailing_list = True\n",
    "else:\n",
    "    mailing_list = False\n",
    "    \n",
    "#create an instance of customer class\n",
    "my_customer = customer.Customer(name, address, phone, customer_number, mailing_list)\n",
    "\n",
    "#print out user input/data\n",
    "print('Customer Information')\n",
    "print('____________________')\n",
    "print('Name:', my_customer.get_name())\n",
    "print('Address:', my_customer.get_address())\n",
    "print('Phone:', my_customer.get_phone())\n",
    "print('Customer number:', my_customer.get_customer_number())\n",
    "print('Mailing list:', my_customer.get_mailing_list())"
   ]
  }
 ],
 "metadata": {
  "kernelspec": {
   "display_name": "Python 3 (ipykernel)",
   "language": "python",
   "name": "python3"
  },
  "language_info": {
   "codemirror_mode": {
    "name": "ipython",
    "version": 3
   },
   "file_extension": ".py",
   "mimetype": "text/x-python",
   "name": "python",
   "nbconvert_exporter": "python",
   "pygments_lexer": "ipython3",
   "version": "3.11.4"
  }
 },
 "nbformat": 4,
 "nbformat_minor": 5
}
