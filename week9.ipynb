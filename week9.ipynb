{
 "cells": [
  {
   "cell_type": "code",
   "execution_count": 3,
   "id": "1b3eb096",
   "metadata": {},
   "outputs": [
    {
     "name": "stdout",
     "output_type": "stream",
     "text": [
      "Unique words found in the file:\n",
      "a\n",
      "appear\n",
      "are\n",
      "contains\n",
      "is\n",
      "it\n",
      "may\n",
      "not\n",
      "once\n",
      "only\n",
      "repeat\n",
      "sample\n",
      "some\n",
      "text\n",
      "this\n",
      "unique\n",
      "words\n"
     ]
    }
   ],
   "source": [
    "def main():\n",
    "    filename = \"unique_words.txt\"\n",
    "\n",
    "    try:\n",
    "        # Initialize an empty set to store unique words\n",
    "        unique_words = set()\n",
    "    \n",
    "        with open(filename, 'r') as file:\n",
    "            for line in file:\n",
    "                # Split the line into words\n",
    "                words = line.split()\n",
    "\n",
    "                # Looping through the words list\n",
    "                for word in words:\n",
    "                    # Remove punctuation and convert to lowercase for consistency\n",
    "                    word = word.strip('.,!?()[]{}\"\\'').lower()\n",
    "\n",
    "                    # Add the word to the set of unique words\n",
    "                    unique_words.add(word)\n",
    "    \n",
    "        # If unique words set is not empty\n",
    "        if unique_words:\n",
    "            # Print the unique words\n",
    "            print(\"Unique words found in the file:\")\n",
    "            for word in sorted(unique_words):\n",
    "                print(word)\n",
    "        else:\n",
    "            # Else print the relavent error message\n",
    "            print(\"No unique words found in the file.\")\n",
    "\n",
    "    except FileNotFoundError:\n",
    "        # If file not found then print relavent error message\n",
    "        print(\"File not found\")\n",
    "\n",
    "    except Exception as e:\n",
    "        # Print other error message\n",
    "        print(f\"An error occurred: {str(e)}\")\n",
    "main()"
   ]
  },
  {
   "cell_type": "code",
   "execution_count": null,
   "id": "7e7b4f3e",
   "metadata": {},
   "outputs": [],
   "source": []
  }
 ],
 "metadata": {
  "kernelspec": {
   "display_name": "Python 3 (ipykernel)",
   "language": "python",
   "name": "python3"
  },
  "language_info": {
   "codemirror_mode": {
    "name": "ipython",
    "version": 3
   },
   "file_extension": ".py",
   "mimetype": "text/x-python",
   "name": "python",
   "nbconvert_exporter": "python",
   "pygments_lexer": "ipython3",
   "version": "3.11.4"
  }
 },
 "nbformat": 4,
 "nbformat_minor": 5
}
