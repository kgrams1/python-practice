{
 "cells": [
  {
   "cell_type": "code",
   "execution_count": 4,
   "id": "2567a01b",
   "metadata": {},
   "outputs": [
    {
     "name": "stdout",
     "output_type": "stream",
     "text": [
      "Enter employee name: Koy Grams\n",
      "Enter employee number: 74833\n",
      "Enter shift number (1 for day, 2 for night): 1\n",
      "Enter hourly pay rate: 20.95\n",
      "Employee Details are:\n",
      "Employee Name: Koy Grams having employee number 74833 working in a day shift at an hourly rate of 20.95 "
     ]
    }
   ],
   "source": [
    "class Employee:\n",
    "    def __init__(self, name, number):\n",
    "        self.employeeName = name\n",
    "        self.employeeNumber = number\n",
    "\n",
    "    # Mutator methods\n",
    "    def setEmployeeName(self, name):\n",
    "        self.employeeName = name\n",
    "\n",
    "    def setEmployeeNumber(self, number):\n",
    "        self.employeeNumber = number\n",
    "\n",
    "    # Accessor methods\n",
    "    def getEmployeeName(self):\n",
    "        return self.employeeName\n",
    "\n",
    "    def getEmployeeNumber(self):\n",
    "        return self.employeeNumber\n",
    "\n",
    "class ProductionWorker(Employee):\n",
    "    def __init__(self, name, number, shiftNumber, hourlyRate):\n",
    "        super().__init__(name, number)\n",
    "        self.shiftNumber = shiftNumber\n",
    "        self.hourlyRate = hourlyRate\n",
    "\n",
    "    def setShiftNumber(self, shiftNumber):\n",
    "        self.shiftNumber = shiftNumber\n",
    "\n",
    "    def setHourlyRate(self, hourlyRate):\n",
    "        self.hourlyRate = hourlyRate\n",
    "\n",
    "    def getShiftNumber(self):\n",
    "        return self.shiftNumber\n",
    "\n",
    "    def getHourlyRate(self):\n",
    "        return self.hourlyRate\n",
    "\n",
    "# Input data\n",
    "name = input(\"Enter employee name: \")\n",
    "number = int(input(\"Enter employee number: \"))\n",
    "shiftNumber = int(input(\"Enter shift number (1 for day, 2 for night): \"))\n",
    "hourlyRate = float(input(\"Enter hourly pay rate: \"))\n",
    "\n",
    "# Create ProductionWorker object\n",
    "employee = ProductionWorker(name, number, shiftNumber, hourlyRate)\n",
    "\n",
    "# Display employee details\n",
    "print(\"Employee Details are:\")\n",
    "print(\"Employee Name:\", employee.getEmployeeName(), \"having employee number\", employee.getEmployeeNumber(), end=\" \")\n",
    "\n",
    "if employee.getShiftNumber() == 1:\n",
    "    print(\"working in a day shift at an hourly rate of\", employee.getHourlyRate(), end=\" \")\n",
    "else employee.getShiftNumber() == 2:\n",
    "    print(\"working in a night shift at an hourly rate of\", employee.getHourlyRate(), end=\" \")\n",
    "\n"
   ]
  },
  {
   "cell_type": "code",
   "execution_count": 6,
   "id": "d22d1a69",
   "metadata": {},
   "outputs": [
    {
     "name": "stdout",
     "output_type": "stream",
     "text": [
      "Enter the Name: josh\n",
      "Enter the ID: 73643\n",
      "Enter the Annual Salary: 100\n",
      "Enter the Bonus: 15\n",
      "Shift worker supervisor information:\n",
      "Name: josh\n",
      "ID Number: 73643\n",
      "Annual Salary: 100\n",
      "Annual Production Bonus: 15\n"
     ]
    }
   ],
   "source": [
    "class Employee: #Employee class with name and id\n",
    "   def __init__(self, Name, Id):\n",
    "      self.Name = Name\n",
    "      self.Id = Id\n",
    "class ShiftSupervisor(Employee): # supervisor class with super class Emplyee\n",
    "   # assing four attribute to their value\n",
    "   def __init__(self, Name, Id, Salarie,Bonus):\n",
    "      super().__init__(Name, Id)\n",
    "      self.Salarie= Salarie\n",
    "      self.Bonus=Bonus\n",
    "   # to display the result\n",
    "   def display(self):\n",
    "      print(\"Shift worker supervisor information:\")\n",
    "      print(\"Name:\",self.Name)\n",
    "      print(\"ID Number:\",self.Id)\n",
    "      print(\"Annual Salary:\",self.Salarie)\n",
    "      print(\"Annual Production Bonus:\",self.Bonus)\n",
    "# taking the input from user\n",
    "Name=input(\"Enter the Name: \")\n",
    "ID=input(\"Enter the ID: \")\n",
    "Salarie=int(input(\"Enter the Annual Salary: \"))\n",
    "Bonus=int(input(\"Enter the Bonus: \"))\n",
    "# making a ShiftSupervisor object with user inputs\n",
    "shiftsupervisor1=ShiftSupervisor(Name,ID,Salarie,Bonus)\n",
    "# printing the information\n",
    "shiftsupervisor1.display()  "
   ]
  },
  {
   "cell_type": "code",
   "execution_count": null,
   "id": "d2612ccb",
   "metadata": {},
   "outputs": [],
   "source": []
  }
 ],
 "metadata": {
  "kernelspec": {
   "display_name": "Python 3 (ipykernel)",
   "language": "python",
   "name": "python3"
  },
  "language_info": {
   "codemirror_mode": {
    "name": "ipython",
    "version": 3
   },
   "file_extension": ".py",
   "mimetype": "text/x-python",
   "name": "python",
   "nbconvert_exporter": "python",
   "pygments_lexer": "ipython3",
   "version": "3.11.4"
  }
 },
 "nbformat": 4,
 "nbformat_minor": 5
}
